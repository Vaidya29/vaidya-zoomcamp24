{
 "cells": [
  {
   "cell_type": "code",
   "execution_count": 106,
   "id": "119378f6-b0fb-4d01-827e-4a72c8fcfe5d",
   "metadata": {},
   "outputs": [],
   "source": [
    "import google.generativeai as genai\n",
    "import os\n",
    "import json\n",
    "from dotenv import load_dotenv\n",
    "import requests\n",
    "#import minsearch\n",
    "from elasticsearch import Elasticsearch"
   ]
  },
  {
   "cell_type": "code",
   "execution_count": 107,
   "id": "43ea0345-63cc-4c67-8503-e4f5f9e25411",
   "metadata": {},
   "outputs": [
    {
     "name": "stdout",
     "output_type": "stream",
     "text": [
      "0.8.1\n"
     ]
    }
   ],
   "source": [
    "print(genai.__version__)"
   ]
  },
  {
   "cell_type": "code",
   "execution_count": 108,
   "id": "010b5f68-687d-4989-8c7f-ad66cc112e86",
   "metadata": {},
   "outputs": [],
   "source": [
    "es_client = Elasticsearch('http://localhost:9200') "
   ]
  },
  {
   "cell_type": "code",
   "execution_count": 109,
   "id": "8d7d93fa-2106-4793-8c59-e8e8eef3a78c",
   "metadata": {},
   "outputs": [],
   "source": [
    "load_dotenv()\n",
    "Gemini_API_KEY=os.getenv('GOOGLE_API_KEY')\n",
    "genai.configure(api_key=Gemini_API_KEY)\n"
   ]
  },
  {
   "cell_type": "code",
   "execution_count": 110,
   "id": "d34b0702-cd01-4414-91de-f22f4f8b542d",
   "metadata": {},
   "outputs": [],
   "source": [
    "#model = genai.GenerativeModel('gemini-pro')"
   ]
  },
  {
   "cell_type": "code",
   "execution_count": 111,
   "id": "9850153a-c9ec-447d-bc46-9b5d23da33d3",
   "metadata": {},
   "outputs": [
    {
     "name": "stdout",
     "output_type": "stream",
     "text": [
      "{'link': 'https://www.huffpost.com/entry/covid-boosters-uptake-us_n_632d719ee4b087fae6feaac9', 'headline': 'Over 4 Million Americans Roll Up Sleeves For Omicron-Targeted COVID Boosters', 'category': 'U.S. NEWS', 'short_description': 'Health experts said it is too early to predict whether demand would match up with the 171 million doses of the new boosters the U.S. ordered for the fall.', 'authors': 'Carla K. Johnson, AP', 'date': '2022-09-23'}\n"
     ]
    }
   ],
   "source": [
    "with open('/workspaces/vaidya-zoomcamp24/News_Category_Dataset_v3.json') as f:\n",
    "    documents=json.load(f)\n",
    "    print(documents[0])"
   ]
  },
  {
   "cell_type": "code",
   "execution_count": 112,
   "id": "b18e7256-e6af-4e94-bea5-f8dd4aca0dae",
   "metadata": {},
   "outputs": [
    {
     "data": {
      "text/plain": [
       "'index=minsearch.Index(text_fields=[\"headline\", \"short_description\"],\\n    keyword_fields=[\"category\"]\\n)\\nindex.fit(documents)'"
      ]
     },
     "execution_count": 112,
     "metadata": {},
     "output_type": "execute_result"
    }
   ],
   "source": [
    "\"\"\"index=minsearch.Index(text_fields=[\"headline\", \"short_description\"],\n",
    "    keyword_fields=[\"category\"]\n",
    ")\n",
    "index.fit(documents)\"\"\""
   ]
  },
  {
   "cell_type": "code",
   "execution_count": 113,
   "id": "0f9758ad-17cb-452c-a062-f64b5bc76760",
   "metadata": {},
   "outputs": [
    {
     "data": {
      "text/plain": [
       "'Over 4 Million Americans Roll Up Sleeves For Omicron-Targeted COVID Boosters'"
      ]
     },
     "execution_count": 113,
     "metadata": {},
     "output_type": "execute_result"
    }
   ],
   "source": [
    "documents[0][\"headline\"]"
   ]
  },
  {
   "cell_type": "code",
   "execution_count": 114,
   "id": "3455b720-3782-4e0f-9292-d5bb88b85220",
   "metadata": {},
   "outputs": [],
   "source": [
    "from tqdm.auto import tqdm"
   ]
  },
  {
   "cell_type": "code",
   "execution_count": 115,
   "id": "1925fab0-f6d8-47e8-92c9-5347282e2d99",
   "metadata": {},
   "outputs": [
    {
     "data": {
      "application/vnd.jupyter.widget-view+json": {
       "model_id": "fa30a52c28ae4050b85970ec668f67d5",
       "version_major": 2,
       "version_minor": 0
      },
      "text/plain": [
       "  0%|          | 0/569 [00:00<?, ?it/s]"
      ]
     },
     "metadata": {},
     "output_type": "display_data"
    }
   ],
   "source": [
    "for doc in tqdm(documents):\n",
    "    es_client.index(index=\"news_index\", document=doc)"
   ]
  },
  {
   "cell_type": "code",
   "execution_count": 134,
   "id": "a5b601d1-6315-495a-a9ad-b7062d903153",
   "metadata": {},
   "outputs": [
    {
     "data": {
      "text/plain": [
       "<Elasticsearch(['http://localhost:9200'])>"
      ]
     },
     "execution_count": 134,
     "metadata": {},
     "output_type": "execute_result"
    }
   ],
   "source": [
    "es_client"
   ]
  },
  {
   "cell_type": "code",
   "execution_count": 116,
   "id": "444c6e3a-b4d2-4a5b-9028-ea404825b64b",
   "metadata": {},
   "outputs": [],
   "source": [
    "def rag(query):\n",
    "    results=elastic_search(query)\n",
    "    #prompt=build_prompt(query,results)\n",
    "    #answer=llm(prompt)\n",
    "    return results#answer.text\n"
   ]
  },
  {
   "cell_type": "code",
   "execution_count": 117,
   "id": "6e9919f5-213c-4429-8d96-99de513e6b81",
   "metadata": {},
   "outputs": [
    {
     "data": {
      "text/plain": [
       "\"def search(query):\\n    results = index.search(\\n        query=query,\\n        filter_dict={'category':'WORLD NEWS'},\\n        num_results=50\\n    )\\n\\n    return results\""
      ]
     },
     "execution_count": 117,
     "metadata": {},
     "output_type": "execute_result"
    }
   ],
   "source": [
    "\"\"\"def search(query):\n",
    "    results = index.search(\n",
    "        query=query,\n",
    "        filter_dict={'category':'WORLD NEWS'},\n",
    "        num_results=50\n",
    "    )\n",
    "\n",
    "    return results\"\"\""
   ]
  },
  {
   "cell_type": "code",
   "execution_count": 129,
   "id": "8dcc331f-04b0-4d32-b7eb-8691bbc162fb",
   "metadata": {},
   "outputs": [
    {
     "name": "stderr",
     "output_type": "stream",
     "text": [
      "/tmp/ipykernel_3894/3705805191.py:27: DeprecationWarning: The 'body' parameter is deprecated and will be removed in a future version. Instead use individual parameters.\n",
      "  response = es_client.search(index=\"news_index\", body=search_query, size=10000)\n"
     ]
    }
   ],
   "source": [
    "def elastic_search(query):\n",
    "    \"\"\"search_query = {\n",
    "        \"size\": 5,\n",
    "        \"query\": {\n",
    "            \"bool\": {\n",
    "                \"must\": {\n",
    "                    \"multi_match\": {\n",
    "                        \"query\": query,\n",
    "                        \"fields\": [\"headline\", \"short_description\"],\n",
    "                        \"type\": \"best_fields\"\n",
    "                    }\n",
    "                },\n",
    "                \"filter\": {\n",
    "                    \"term\": {\n",
    "                        \"category\": \"COMEDY\"\n",
    "                    }\n",
    "                }\n",
    "            }\n",
    "        }\n",
    "    }\"\"\"\n",
    "search_query = {\n",
    "                \"query\": {\n",
    "                \"match_all\": {}\n",
    "                        }\n",
    "                }\n",
    "\n",
    "response = es_client.search(index=\"news_index\", body=search_query, size=10000)\n"
   ]
  },
  {
   "cell_type": "code",
   "execution_count": 130,
   "id": "9f428bae-2d7b-4062-8d3f-3a95cb150729",
   "metadata": {},
   "outputs": [],
   "source": [
    "\n",
    "def build_prompt(query,results):\n",
    "\n",
    "    # Define the context and query\n",
    "    #context = [item['short_description'] for item in results]\n",
    "    context = \"\"\n",
    "    \n",
    "    for doc in results:\n",
    "        context = context + f\"section: {doc['headline']}\\n  question: {doc['short_description']}\"\n",
    "    \n",
    "    \n",
    "    # Define the prompt template\n",
    "    prompt_template =  f\"\"\" {query} ? .Answer from the section which is delimited with triple backticks?Review text:\n",
    "                        '''{context}'''\n",
    "                        \"\"\".strip()\n",
    "    \n",
    "    return prompt_template\n",
    "    \n",
    "def llm(prompt):\n",
    "# Initialize the model\n",
    "    model = genai.GenerativeModel(model_name='gemini-pro')\n",
    "    \n",
    "    # Start a chat session\n",
    "    chat = model.start_chat(history=[])\n",
    "    \n",
    "    # Send the message with function calling enabled within the chat session\n",
    "    gemini_response = chat.send_message(prompt)\n",
    "    \n",
    "    #gemini_response = response.text\n",
    "    return gemini_response\n",
    "\n"
   ]
  },
  {
   "cell_type": "code",
   "execution_count": 131,
   "id": "0d4e5bd8-0de3-4752-ae55-6558b08f113c",
   "metadata": {
    "scrolled": true
   },
   "outputs": [
    {
     "name": "stdout",
     "output_type": "stream",
     "text": [
      "None\n"
     ]
    }
   ],
   "source": [
    "query=\"American Airlines\"\n",
    "answer=rag(query)\n",
    "print(answer)"
   ]
  },
  {
   "cell_type": "code",
   "execution_count": null,
   "id": "7e242efb-978e-4877-8654-880899f423be",
   "metadata": {},
   "outputs": [],
   "source": []
  }
 ],
 "metadata": {
  "kernelspec": {
   "display_name": "Python 3 (ipykernel)",
   "language": "python",
   "name": "python3"
  },
  "language_info": {
   "codemirror_mode": {
    "name": "ipython",
    "version": 3
   },
   "file_extension": ".py",
   "mimetype": "text/x-python",
   "name": "python",
   "nbconvert_exporter": "python",
   "pygments_lexer": "ipython3",
   "version": "3.12.1"
  }
 },
 "nbformat": 4,
 "nbformat_minor": 5
}
