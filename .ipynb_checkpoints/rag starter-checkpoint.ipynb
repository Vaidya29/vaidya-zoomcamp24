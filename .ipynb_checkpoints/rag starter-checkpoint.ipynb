{
 "cells": [
  {
   "cell_type": "code",
   "execution_count": 60,
   "id": "119378f6-b0fb-4d01-827e-4a72c8fcfe5d",
   "metadata": {},
   "outputs": [],
   "source": [
    "import google.generativeai as genai\n",
    "import os\n",
    "import json\n",
    "from dotenv import load_dotenv\n",
    "import requests\n",
    "#import minsearch\n",
    "from elasticsearch import Elasticsearch"
   ]
  },
  {
   "cell_type": "code",
   "execution_count": 61,
   "id": "43ea0345-63cc-4c67-8503-e4f5f9e25411",
   "metadata": {},
   "outputs": [
    {
     "name": "stdout",
     "output_type": "stream",
     "text": [
      "0.8.1\n"
     ]
    }
   ],
   "source": [
    "print(genai.__version__)"
   ]
  },
  {
   "cell_type": "code",
   "execution_count": 68,
   "id": "010b5f68-687d-4989-8c7f-ad66cc112e86",
   "metadata": {},
   "outputs": [
    {
     "data": {
      "text/plain": [
       "<Elasticsearch(['http://localhost:9200'])>"
      ]
     },
     "execution_count": 68,
     "metadata": {},
     "output_type": "execute_result"
    }
   ],
   "source": [
    "es_client = Elasticsearch('http://localhost:9200') "
   ]
  },
  {
   "cell_type": "code",
   "execution_count": 63,
   "id": "8d7d93fa-2106-4793-8c59-e8e8eef3a78c",
   "metadata": {},
   "outputs": [],
   "source": [
    "load_dotenv()\n",
    "Gemini_API_KEY=os.getenv('GOOGLE_API_KEY')\n",
    "genai.configure(api_key=Gemini_API_KEY)\n"
   ]
  },
  {
   "cell_type": "code",
   "execution_count": 64,
   "id": "d34b0702-cd01-4414-91de-f22f4f8b542d",
   "metadata": {},
   "outputs": [],
   "source": [
    "#model = genai.GenerativeModel('gemini-pro')"
   ]
  },
  {
   "cell_type": "code",
   "execution_count": 65,
   "id": "9850153a-c9ec-447d-bc46-9b5d23da33d3",
   "metadata": {},
   "outputs": [
    {
     "name": "stdout",
     "output_type": "stream",
     "text": [
      "{'link': 'https://www.huffpost.com/entry/covid-boosters-uptake-us_n_632d719ee4b087fae6feaac9', 'headline': 'Over 4 Million Americans Roll Up Sleeves For Omicron-Targeted COVID Boosters', 'category': 'U.S. NEWS', 'short_description': 'Health experts said it is too early to predict whether demand would match up with the 171 million doses of the new boosters the U.S. ordered for the fall.', 'authors': 'Carla K. Johnson, AP', 'date': '2022-09-23'}\n"
     ]
    }
   ],
   "source": [
    "with open('/workspaces/vaidya-zoomcamp24/News_Category_Dataset_v3.json') as f:\n",
    "    documents=json.load(f)\n",
    "    print(documents[0])"
   ]
  },
  {
   "cell_type": "code",
   "execution_count": 69,
   "id": "b18e7256-e6af-4e94-bea5-f8dd4aca0dae",
   "metadata": {},
   "outputs": [
    {
     "data": {
      "text/plain": [
       "'index=minsearch.Index(text_fields=[\"headline\", \"short_description\"],\\n    keyword_fields=[\"category\"]\\n)\\nindex.fit(documents)'"
      ]
     },
     "execution_count": 69,
     "metadata": {},
     "output_type": "execute_result"
    }
   ],
   "source": [
    "\"\"\"index=minsearch.Index(text_fields=[\"headline\", \"short_description\"],\n",
    "    keyword_fields=[\"category\"]\n",
    ")\n",
    "index.fit(documents)\"\"\""
   ]
  },
  {
   "cell_type": "code",
   "execution_count": 58,
   "id": "3455b720-3782-4e0f-9292-d5bb88b85220",
   "metadata": {},
   "outputs": [],
   "source": [
    "from tqdm.auto import tqdm"
   ]
  },
  {
   "cell_type": "code",
   "execution_count": 75,
   "id": "1925fab0-f6d8-47e8-92c9-5347282e2d99",
   "metadata": {},
   "outputs": [
    {
     "data": {
      "application/vnd.jupyter.widget-view+json": {
       "model_id": "71d1dd3a3b0049cb821de80fc48447ef",
       "version_major": 2,
       "version_minor": 0
      },
      "text/plain": [
       "  0%|          | 0/569 [00:00<?, ?it/s]"
      ]
     },
     "metadata": {},
     "output_type": "display_data"
    },
    {
     "ename": "ConnectionError",
     "evalue": "Connection error caused by: ConnectionError(Connection error caused by: NewConnectionError(<urllib3.connection.HTTPConnection object at 0x7064ea4f61e0>: Failed to establish a new connection: [Errno 111] Connection refused))",
     "output_type": "error",
     "traceback": [
      "\u001b[0;31m---------------------------------------------------------------------------\u001b[0m",
      "\u001b[0;31mConnectionError\u001b[0m                           Traceback (most recent call last)",
      "Cell \u001b[0;32mIn[75], line 2\u001b[0m\n\u001b[1;32m      1\u001b[0m \u001b[38;5;28;01mfor\u001b[39;00m doc \u001b[38;5;129;01min\u001b[39;00m tqdm(documents):\n\u001b[0;32m----> 2\u001b[0m     \u001b[43mes_client\u001b[49m\u001b[38;5;241;43m.\u001b[39;49m\u001b[43mindex\u001b[49m\u001b[43m(\u001b[49m\u001b[43mindex\u001b[49m\u001b[38;5;241;43m=\u001b[39;49m\u001b[38;5;124;43m\"\u001b[39;49m\u001b[38;5;124;43mNews index\u001b[39;49m\u001b[38;5;124;43m\"\u001b[39;49m\u001b[43m,\u001b[49m\u001b[43m \u001b[49m\u001b[43mdocument\u001b[49m\u001b[38;5;241;43m=\u001b[39;49m\u001b[43mdocuments\u001b[49m\u001b[43m)\u001b[49m\n",
      "File \u001b[0;32m/usr/local/python/3.12.1/lib/python3.12/site-packages/elasticsearch/_sync/client/utils.py:414\u001b[0m, in \u001b[0;36m_rewrite_parameters.<locals>.wrapper.<locals>.wrapped\u001b[0;34m(*args, **kwargs)\u001b[0m\n\u001b[1;32m    411\u001b[0m         \u001b[38;5;28;01mexcept\u001b[39;00m \u001b[38;5;167;01mKeyError\u001b[39;00m:\n\u001b[1;32m    412\u001b[0m             \u001b[38;5;28;01mpass\u001b[39;00m\n\u001b[0;32m--> 414\u001b[0m \u001b[38;5;28;01mreturn\u001b[39;00m \u001b[43mapi\u001b[49m\u001b[43m(\u001b[49m\u001b[38;5;241;43m*\u001b[39;49m\u001b[43margs\u001b[49m\u001b[43m,\u001b[49m\u001b[43m \u001b[49m\u001b[38;5;241;43m*\u001b[39;49m\u001b[38;5;241;43m*\u001b[39;49m\u001b[43mkwargs\u001b[49m\u001b[43m)\u001b[49m\n",
      "File \u001b[0;32m/usr/local/python/3.12.1/lib/python3.12/site-packages/elasticsearch/_sync/client/__init__.py:2318\u001b[0m, in \u001b[0;36mElasticsearch.index\u001b[0;34m(self, index, document, id, error_trace, filter_path, human, if_primary_term, if_seq_no, op_type, pipeline, pretty, refresh, require_alias, routing, timeout, version, version_type, wait_for_active_shards)\u001b[0m\n\u001b[1;32m   2316\u001b[0m __body \u001b[38;5;241m=\u001b[39m document\n\u001b[1;32m   2317\u001b[0m __headers \u001b[38;5;241m=\u001b[39m {\u001b[38;5;124m\"\u001b[39m\u001b[38;5;124maccept\u001b[39m\u001b[38;5;124m\"\u001b[39m: \u001b[38;5;124m\"\u001b[39m\u001b[38;5;124mapplication/json\u001b[39m\u001b[38;5;124m\"\u001b[39m, \u001b[38;5;124m\"\u001b[39m\u001b[38;5;124mcontent-type\u001b[39m\u001b[38;5;124m\"\u001b[39m: \u001b[38;5;124m\"\u001b[39m\u001b[38;5;124mapplication/json\u001b[39m\u001b[38;5;124m\"\u001b[39m}\n\u001b[0;32m-> 2318\u001b[0m \u001b[38;5;28;01mreturn\u001b[39;00m \u001b[38;5;28;43mself\u001b[39;49m\u001b[38;5;241;43m.\u001b[39;49m\u001b[43mperform_request\u001b[49m\u001b[43m(\u001b[49m\u001b[43m  \u001b[49m\u001b[38;5;66;43;03m# type: ignore[return-value]\u001b[39;49;00m\n\u001b[1;32m   2319\u001b[0m \u001b[43m    \u001b[49m\u001b[43m__method\u001b[49m\u001b[43m,\u001b[49m\u001b[43m \u001b[49m\u001b[43m__path\u001b[49m\u001b[43m,\u001b[49m\u001b[43m \u001b[49m\u001b[43mparams\u001b[49m\u001b[38;5;241;43m=\u001b[39;49m\u001b[43m__query\u001b[49m\u001b[43m,\u001b[49m\u001b[43m \u001b[49m\u001b[43mheaders\u001b[49m\u001b[38;5;241;43m=\u001b[39;49m\u001b[43m__headers\u001b[49m\u001b[43m,\u001b[49m\u001b[43m \u001b[49m\u001b[43mbody\u001b[49m\u001b[38;5;241;43m=\u001b[39;49m\u001b[43m__body\u001b[49m\n\u001b[1;32m   2320\u001b[0m \u001b[43m\u001b[49m\u001b[43m)\u001b[49m\n",
      "File \u001b[0;32m/usr/local/python/3.12.1/lib/python3.12/site-packages/elasticsearch/_sync/client/_base.py:285\u001b[0m, in \u001b[0;36mBaseClient.perform_request\u001b[0;34m(self, method, path, params, headers, body)\u001b[0m\n\u001b[1;32m    282\u001b[0m \u001b[38;5;28;01melse\u001b[39;00m:\n\u001b[1;32m    283\u001b[0m     target \u001b[38;5;241m=\u001b[39m path\n\u001b[0;32m--> 285\u001b[0m meta, resp_body \u001b[38;5;241m=\u001b[39m \u001b[38;5;28;43mself\u001b[39;49m\u001b[38;5;241;43m.\u001b[39;49m\u001b[43mtransport\u001b[49m\u001b[38;5;241;43m.\u001b[39;49m\u001b[43mperform_request\u001b[49m\u001b[43m(\u001b[49m\n\u001b[1;32m    286\u001b[0m \u001b[43m    \u001b[49m\u001b[43mmethod\u001b[49m\u001b[43m,\u001b[49m\n\u001b[1;32m    287\u001b[0m \u001b[43m    \u001b[49m\u001b[43mtarget\u001b[49m\u001b[43m,\u001b[49m\n\u001b[1;32m    288\u001b[0m \u001b[43m    \u001b[49m\u001b[43mheaders\u001b[49m\u001b[38;5;241;43m=\u001b[39;49m\u001b[43mrequest_headers\u001b[49m\u001b[43m,\u001b[49m\n\u001b[1;32m    289\u001b[0m \u001b[43m    \u001b[49m\u001b[43mbody\u001b[49m\u001b[38;5;241;43m=\u001b[39;49m\u001b[43mbody\u001b[49m\u001b[43m,\u001b[49m\n\u001b[1;32m    290\u001b[0m \u001b[43m    \u001b[49m\u001b[43mrequest_timeout\u001b[49m\u001b[38;5;241;43m=\u001b[39;49m\u001b[38;5;28;43mself\u001b[39;49m\u001b[38;5;241;43m.\u001b[39;49m\u001b[43m_request_timeout\u001b[49m\u001b[43m,\u001b[49m\n\u001b[1;32m    291\u001b[0m \u001b[43m    \u001b[49m\u001b[43mmax_retries\u001b[49m\u001b[38;5;241;43m=\u001b[39;49m\u001b[38;5;28;43mself\u001b[39;49m\u001b[38;5;241;43m.\u001b[39;49m\u001b[43m_max_retries\u001b[49m\u001b[43m,\u001b[49m\n\u001b[1;32m    292\u001b[0m \u001b[43m    \u001b[49m\u001b[43mretry_on_status\u001b[49m\u001b[38;5;241;43m=\u001b[39;49m\u001b[38;5;28;43mself\u001b[39;49m\u001b[38;5;241;43m.\u001b[39;49m\u001b[43m_retry_on_status\u001b[49m\u001b[43m,\u001b[49m\n\u001b[1;32m    293\u001b[0m \u001b[43m    \u001b[49m\u001b[43mretry_on_timeout\u001b[49m\u001b[38;5;241;43m=\u001b[39;49m\u001b[38;5;28;43mself\u001b[39;49m\u001b[38;5;241;43m.\u001b[39;49m\u001b[43m_retry_on_timeout\u001b[49m\u001b[43m,\u001b[49m\n\u001b[1;32m    294\u001b[0m \u001b[43m    \u001b[49m\u001b[43mclient_meta\u001b[49m\u001b[38;5;241;43m=\u001b[39;49m\u001b[38;5;28;43mself\u001b[39;49m\u001b[38;5;241;43m.\u001b[39;49m\u001b[43m_client_meta\u001b[49m\u001b[43m,\u001b[49m\n\u001b[1;32m    295\u001b[0m \u001b[43m\u001b[49m\u001b[43m)\u001b[49m\n\u001b[1;32m    297\u001b[0m \u001b[38;5;66;03m# HEAD with a 404 is returned as a normal response\u001b[39;00m\n\u001b[1;32m    298\u001b[0m \u001b[38;5;66;03m# since this is used as an 'exists' functionality.\u001b[39;00m\n\u001b[1;32m    299\u001b[0m \u001b[38;5;28;01mif\u001b[39;00m \u001b[38;5;129;01mnot\u001b[39;00m (method \u001b[38;5;241m==\u001b[39m \u001b[38;5;124m\"\u001b[39m\u001b[38;5;124mHEAD\u001b[39m\u001b[38;5;124m\"\u001b[39m \u001b[38;5;129;01mand\u001b[39;00m meta\u001b[38;5;241m.\u001b[39mstatus \u001b[38;5;241m==\u001b[39m \u001b[38;5;241m404\u001b[39m) \u001b[38;5;129;01mand\u001b[39;00m (\n\u001b[1;32m    300\u001b[0m     \u001b[38;5;129;01mnot\u001b[39;00m \u001b[38;5;241m200\u001b[39m \u001b[38;5;241m<\u001b[39m\u001b[38;5;241m=\u001b[39m meta\u001b[38;5;241m.\u001b[39mstatus \u001b[38;5;241m<\u001b[39m \u001b[38;5;241m299\u001b[39m\n\u001b[1;32m    301\u001b[0m     \u001b[38;5;129;01mand\u001b[39;00m (\n\u001b[0;32m   (...)\u001b[0m\n\u001b[1;32m    305\u001b[0m     )\n\u001b[1;32m    306\u001b[0m ):\n",
      "File \u001b[0;32m/usr/local/python/3.12.1/lib/python3.12/site-packages/elastic_transport/_transport.py:342\u001b[0m, in \u001b[0;36mTransport.perform_request\u001b[0;34m(self, method, target, body, headers, max_retries, retry_on_status, retry_on_timeout, request_timeout, client_meta, otel_span)\u001b[0m\n\u001b[1;32m    340\u001b[0m \u001b[38;5;28;01mtry\u001b[39;00m:\n\u001b[1;32m    341\u001b[0m     otel_span\u001b[38;5;241m.\u001b[39mset_node_metadata(node\u001b[38;5;241m.\u001b[39mhost, node\u001b[38;5;241m.\u001b[39mport, node\u001b[38;5;241m.\u001b[39mbase_url, target)\n\u001b[0;32m--> 342\u001b[0m     resp \u001b[38;5;241m=\u001b[39m \u001b[43mnode\u001b[49m\u001b[38;5;241;43m.\u001b[39;49m\u001b[43mperform_request\u001b[49m\u001b[43m(\u001b[49m\n\u001b[1;32m    343\u001b[0m \u001b[43m        \u001b[49m\u001b[43mmethod\u001b[49m\u001b[43m,\u001b[49m\n\u001b[1;32m    344\u001b[0m \u001b[43m        \u001b[49m\u001b[43mtarget\u001b[49m\u001b[43m,\u001b[49m\n\u001b[1;32m    345\u001b[0m \u001b[43m        \u001b[49m\u001b[43mbody\u001b[49m\u001b[38;5;241;43m=\u001b[39;49m\u001b[43mrequest_body\u001b[49m\u001b[43m,\u001b[49m\n\u001b[1;32m    346\u001b[0m \u001b[43m        \u001b[49m\u001b[43mheaders\u001b[49m\u001b[38;5;241;43m=\u001b[39;49m\u001b[43mrequest_headers\u001b[49m\u001b[43m,\u001b[49m\n\u001b[1;32m    347\u001b[0m \u001b[43m        \u001b[49m\u001b[43mrequest_timeout\u001b[49m\u001b[38;5;241;43m=\u001b[39;49m\u001b[43mrequest_timeout\u001b[49m\u001b[43m,\u001b[49m\n\u001b[1;32m    348\u001b[0m \u001b[43m    \u001b[49m\u001b[43m)\u001b[49m\n\u001b[1;32m    349\u001b[0m     _logger\u001b[38;5;241m.\u001b[39minfo(\n\u001b[1;32m    350\u001b[0m         \u001b[38;5;124m\"\u001b[39m\u001b[38;5;132;01m%s\u001b[39;00m\u001b[38;5;124m \u001b[39m\u001b[38;5;132;01m%s\u001b[39;00m\u001b[38;5;132;01m%s\u001b[39;00m\u001b[38;5;124m [status:\u001b[39m\u001b[38;5;132;01m%s\u001b[39;00m\u001b[38;5;124m duration:\u001b[39m\u001b[38;5;132;01m%.3f\u001b[39;00m\u001b[38;5;124ms]\u001b[39m\u001b[38;5;124m\"\u001b[39m\n\u001b[1;32m    351\u001b[0m         \u001b[38;5;241m%\u001b[39m (\n\u001b[0;32m   (...)\u001b[0m\n\u001b[1;32m    357\u001b[0m         )\n\u001b[1;32m    358\u001b[0m     )\n\u001b[1;32m    360\u001b[0m     \u001b[38;5;28;01mif\u001b[39;00m method \u001b[38;5;241m!=\u001b[39m \u001b[38;5;124m\"\u001b[39m\u001b[38;5;124mHEAD\u001b[39m\u001b[38;5;124m\"\u001b[39m:\n",
      "File \u001b[0;32m/usr/local/python/3.12.1/lib/python3.12/site-packages/elastic_transport/_node/_http_urllib3.py:202\u001b[0m, in \u001b[0;36mUrllib3HttpNode.perform_request\u001b[0;34m(self, method, target, body, headers, request_timeout)\u001b[0m\n\u001b[1;32m    194\u001b[0m         err \u001b[38;5;241m=\u001b[39m \u001b[38;5;167;01mConnectionError\u001b[39;00m(\u001b[38;5;28mstr\u001b[39m(e), errors\u001b[38;5;241m=\u001b[39m(e,))\n\u001b[1;32m    195\u001b[0m     \u001b[38;5;28mself\u001b[39m\u001b[38;5;241m.\u001b[39m_log_request(\n\u001b[1;32m    196\u001b[0m         method\u001b[38;5;241m=\u001b[39mmethod,\n\u001b[1;32m    197\u001b[0m         target\u001b[38;5;241m=\u001b[39mtarget,\n\u001b[0;32m   (...)\u001b[0m\n\u001b[1;32m    200\u001b[0m         exception\u001b[38;5;241m=\u001b[39merr,\n\u001b[1;32m    201\u001b[0m     )\n\u001b[0;32m--> 202\u001b[0m     \u001b[38;5;28;01mraise\u001b[39;00m err \u001b[38;5;28;01mfrom\u001b[39;00m \u001b[38;5;28;01mNone\u001b[39;00m\n\u001b[1;32m    204\u001b[0m meta \u001b[38;5;241m=\u001b[39m ApiResponseMeta(\n\u001b[1;32m    205\u001b[0m     node\u001b[38;5;241m=\u001b[39m\u001b[38;5;28mself\u001b[39m\u001b[38;5;241m.\u001b[39mconfig,\n\u001b[1;32m    206\u001b[0m     duration\u001b[38;5;241m=\u001b[39mduration,\n\u001b[0;32m   (...)\u001b[0m\n\u001b[1;32m    209\u001b[0m     headers\u001b[38;5;241m=\u001b[39mresponse_headers,\n\u001b[1;32m    210\u001b[0m )\n\u001b[1;32m    211\u001b[0m \u001b[38;5;28mself\u001b[39m\u001b[38;5;241m.\u001b[39m_log_request(\n\u001b[1;32m    212\u001b[0m     method\u001b[38;5;241m=\u001b[39mmethod,\n\u001b[1;32m    213\u001b[0m     target\u001b[38;5;241m=\u001b[39mtarget,\n\u001b[0;32m   (...)\u001b[0m\n\u001b[1;32m    217\u001b[0m     response\u001b[38;5;241m=\u001b[39mdata,\n\u001b[1;32m    218\u001b[0m )\n",
      "\u001b[0;31mConnectionError\u001b[0m: Connection error caused by: ConnectionError(Connection error caused by: NewConnectionError(<urllib3.connection.HTTPConnection object at 0x7064ea4f61e0>: Failed to establish a new connection: [Errno 111] Connection refused))"
     ]
    }
   ],
   "source": [
    "for doc in tqdm(documents):\n",
    "    es_client.index(index=\"News index\", document=documents)"
   ]
  },
  {
   "cell_type": "code",
   "execution_count": 73,
   "id": "444c6e3a-b4d2-4a5b-9028-ea404825b64b",
   "metadata": {},
   "outputs": [],
   "source": [
    "def rag(query):\n",
    "    results=elastic_search(query)\n",
    "    prompt=build_prompt(query,results)\n",
    "    answer=llm(prompt)\n",
    "    return prompt#answer.text\n"
   ]
  },
  {
   "cell_type": "code",
   "execution_count": null,
   "id": "6e9919f5-213c-4429-8d96-99de513e6b81",
   "metadata": {},
   "outputs": [],
   "source": [
    "\"\"\"def search(query):\n",
    "    results = index.search(\n",
    "        query=query,\n",
    "        filter_dict={'category':'WORLD NEWS'},\n",
    "        num_results=50\n",
    "    )\n",
    "\n",
    "    return results\"\"\""
   ]
  },
  {
   "cell_type": "code",
   "execution_count": null,
   "id": "8dcc331f-04b0-4d32-b7eb-8691bbc162fb",
   "metadata": {},
   "outputs": [],
   "source": [
    "def elastic_search(query):\n",
    "    search_query = {\n",
    "        \"size\": 5,\n",
    "        \"query\": {\n",
    "            \"bool\": {\n",
    "                \"must\": {\n",
    "                    \"multi_match\": {\n",
    "                        \"query\": query,\n",
    "                        \"fields\": [\"headline\", \"short_description^3\"],\n",
    "                        \"type\": \"best_fields\"\n",
    "                    }\n",
    "                },\n",
    "                \"filter\": {\n",
    "                    \"term\": {\n",
    "                        \"category\": \"WELLNESS\"\n",
    "                    }\n",
    "                }\n",
    "            }\n",
    "        }\n",
    "    }\n",
    "\n",
    "    response = es_client.search(index=index_name, body=search_query)"
   ]
  },
  {
   "cell_type": "code",
   "execution_count": 72,
   "id": "9f428bae-2d7b-4062-8d3f-3a95cb150729",
   "metadata": {},
   "outputs": [],
   "source": [
    "\n",
    "def build_prompt(query,results):\n",
    "\n",
    "    # Define the context and query\n",
    "    #context = [item['short_description'] for item in results]\n",
    "    context = \"\"\n",
    "    \n",
    "    for doc in results:\n",
    "        context = context + f\"section: {doc['headline']}\\n  question: {doc['short_description']}\"\n",
    "    \n",
    "    \n",
    "    # Define the prompt template\n",
    "    prompt_template =  f\"\"\" {query} ? .Answer from the section which is delimited with triple backticks?Review text:\n",
    "                        '''{context}'''\n",
    "                        \"\"\".strip()\n",
    "    \n",
    "    return prompt_template\n",
    "    \n",
    "def llm(prompt):\n",
    "# Initialize the model\n",
    "    model = genai.GenerativeModel(model_name='gemini-pro')\n",
    "    \n",
    "    # Start a chat session\n",
    "    chat = model.start_chat(history=[])\n",
    "    \n",
    "    # Send the message with function calling enabled within the chat session\n",
    "    gemini_response = chat.send_message(prompt)\n",
    "    \n",
    "    #gemini_response = response.text\n",
    "    return gemini_response\n",
    "\n"
   ]
  },
  {
   "cell_type": "code",
   "execution_count": 34,
   "id": "0d4e5bd8-0de3-4752-ae55-6558b08f113c",
   "metadata": {
    "scrolled": true
   },
   "outputs": [
    {
     "name": "stdout",
     "output_type": "stream",
     "text": [
      "[{'link': 'https://www.huffpost.com/entry/pakistan-floods-lake-swelling_n_6314c328e4b046aa022b3d8c', 'headline': \"Pakistan's Largest Natural Lake Is Rising To Dangerous Levels Due To Monsoon\", 'category': 'WORLD NEWS', 'short_description': 'Authorities warn that more flooding is expected as Lake Manchar swells from unprecedented monsoon rains that have killed nearly 1,300 people.', 'authors': 'Zarar Khan, AP', 'date': '2022-09-04'}, {'link': 'https://www.huffpost.com/entry/bc-as-pakistan-floods_n_63260f56e4b027aa4066b0f6', 'headline': 'WHO Raises Alarm On Disease In Flood-hit Areas Of Pakistan', 'category': 'WORLD NEWS', 'short_description': 'The World Health Organization is raising the alarm about a “second disaster” in the wake of the deadly floods in Pakistan this summer, as doctors and medical workers on the ground race to battle outbreaks of waterborne and other diseases.', 'authors': 'ZARAR KHAN, AP', 'date': '2022-09-17'}, {'link': 'https://www.huffpost.com/entry/state-dept-saudi-woman-sentence-twitter_n_62fe1273e4b0a85a819925e6', 'headline': \"State Dept. 'Studying' 34-Year Sentence Of Saudi Woman Over Twitter Use\", 'category': 'WORLD NEWS', 'short_description': 'Salma al-Shehab received the lengthy prison sentence for following accounts and retweeting posts critical of the Kingdom on Twitter.', 'authors': 'Marita Vlachou', 'date': '2022-08-18'}, {'link': 'https://www.huffpost.com/entry/salman-rushdie-recover_n_62f90817e4b0288b61a57374', 'headline': \"Salman Rushdie 'On The Road To Recovery,' Agent Says\", 'category': 'WORLD NEWS', 'short_description': \"The author's agent said he is “on the road to recovery” two days after suffering serious injuries in a stabbing at a lecture in upstate New York.\", 'authors': 'HILLEL ITALIE and CAROLYN THOMPSON, AP', 'date': '2022-08-14'}, {'link': 'https://www.huffpost.com/entry/putin-snubs-gorbachev-funeral_n_6312499ce4b09e34c39504ef', 'headline': \"Putin Plans To Snub Gorbachev's Funeral\", 'category': 'WORLD NEWS', 'short_description': 'The low-key funeral reflects the Kremlin’s uneasiness about the legacy of Gorbachev, who is despised by many at home for the collapse of the Soviet Union.', 'authors': 'Jim Heintz and Vladimir Isachenkov, AP', 'date': '2022-09-02'}, {'link': 'https://www.huffpost.com/entry/first-pamplona-running-of-the-bulls-in-3-years_n_62c6efc6e4b06e3d9bb25067', 'headline': 'No One Gored In First Pamplona Running Of The Bulls In 3 Years', 'category': 'WORLD NEWS', 'short_description': 'Animal rights activists have campaigned against the slaughter of the animals, but bullfights are still a part of the San Fermín festival.', 'authors': 'Irene Yagüe and Joseph Wilson, AP', 'date': '2022-07-07'}, {'link': 'https://www.huffpost.com/entry/cuba-oil-facility-fire-lightning-strike_n_62ef2a1ee4b0c550161aba3c', 'headline': 'Over 120 Injured, Several Missing In Massive Cuban Oil Facility Fire', 'category': 'WORLD NEWS', 'short_description': 'A dense black smoke cloud from the fire has spread about 62 miles west toward Havana.', 'authors': 'Andrea Rodríguez, AP', 'date': '2022-08-07'}, {'link': 'https://www.huffpost.com/entry/uk-prime-minister-rishi-sunak-liz-truss_n_62d90ec8e4b03dbb9914fefa', 'headline': 'The Race To Replace Boris Johnson As Prime Minister Is Down To These 2 Candidates', 'category': 'WORLD NEWS', 'short_description': \"On Sept. 5, either Rishi Sunak or Liz Truss will be announced as the U.K.'s new prime minister.\", 'authors': 'Ned Simons', 'date': '2022-07-21'}, {'link': 'https://www.huffpost.com/entry/egypt-cairo-coptic-church-fire_n_62f8deade4b045e6f6ae64b6', 'headline': 'Officials: Fire At Coptic Church In Cairo Kills 41', 'category': 'WORLD NEWS', 'short_description': 'It was one of the worst fire tragedies in Egypt in recent years.', 'authors': 'Samy Magdy, AP', 'date': '2022-08-14'}, {'link': 'https://www.huffpost.com/entry/ap-as-vietnam-karaoke-fire_n_6319c41be4b0ed021def2c70', 'headline': 'At Least 32 Dead In Fire At Karaoke Parlor In South Vietnam', 'category': 'WORLD NEWS', 'short_description': 'The fire in Thuan An city began late Tuesday and trapped both workers and customers inside the multi-story venue.', 'authors': '', 'date': '2022-09-08'}, {'link': 'https://www.huffpost.com/entry/israel-palestinian-gunman-jerusalem-shooting_n_62f8e0a5e4b0288b61a569f9', 'headline': 'Palestinian Gunman Wounds 8 In Late-Night Jerusalem Shooting', 'category': 'WORLD NEWS', 'short_description': 'The attack in Jerusalem followed a tense week between Israel and Palestinians in Gaza and the West Bank.', 'authors': 'Ilan Ben Zion, AP', 'date': '2022-08-14'}, {'link': 'https://www.huffpost.com/entry/ukraine-forces-success-counteroffensive-russia_n_631c89cce4b082746be0286c', 'headline': 'Ukraine Claws Back Some Territory; Nuclear Plant In Peril', 'category': 'WORLD NEWS', 'short_description': 'Ukrainian forces are claiming new success in their counteroffensive against Russian forces in the east.', 'authors': 'HANNA ARHIROVA and YURAS KARMANAU, AP', 'date': '2022-09-10'}, {'link': 'https://www.huffpost.com/entry/syria-denies-it-is-holding-american-journalist-austin-tice_n_62fcb9dae4b06389482ea692', 'headline': 'Syria Denies It Is Holding American Journalist Austin Tice', 'category': 'WORLD NEWS', 'short_description': 'President Joe Biden accused the Syrian government of detaining Austin Tice, who has been missing for 10 years.', 'authors': '', 'date': '2022-08-17'}, {'link': 'https://www.huffpost.com/entry/bc-lt-mexico-missing-students_n_630a2a08e4b0dc23bbe911fc', 'headline': '6 Missing College Students In Mexico Were Held In Warehouse, Killed By Army', 'category': 'WORLD NEWS', 'short_description': 'Six of 43 students kidnapped in 2014 were kept alive for days before being handed over to a local army commander who ordered them to be killed, according to a new report.', 'authors': 'Fabiola Sánchez and Christopher Sherman, AP', 'date': '2022-08-27'}, {'link': 'https://www.huffpost.com/entry/man-sets-fire-protest-abe-funeral_n_632ae462e4b07198f0146afd', 'headline': \"Man Sets Himself On Fire In Apparent Protest Of Funeral For Japan's Abe\", 'category': 'WORLD NEWS', 'short_description': 'The incident underscores a growing wave of protests against the funeral for Shinzo Abe, who was one of the most divisive leaders in postwar Japanese politics.', 'authors': 'Mari Yamaguchi, AP', 'date': '2022-09-21'}, {'link': 'https://www.huffpost.com/entry/south-africa-bar-shooting-soweto_n_62ca8df7e4b04516846385a5', 'headline': 'At Least 15 Killed In South Africa Bar Shooting', 'category': 'WORLD NEWS', 'short_description': 'Police say they are investigating reports that a group of men arrived in a minibus taxi and opened fire on some of the patrons at the bar shortly after midnight Sunday.', 'authors': 'Mogomotsi Magome, AP', 'date': '2022-07-10'}, {'link': 'https://www.huffpost.com/entry/uk-royals-spending-costs_n_62bdbc43e4b0ffe00a0ee84b', 'headline': 'UK Royals’ Spending Up 17%, Mostly For Palace Overhaul Costs', 'category': 'WORLD NEWS', 'short_description': 'The most expensive official royal tour in the past year was the trip taken by Prince William and his wife, Kate Middleton, to the Caribbean in March.', 'authors': 'SYLVIA HUI, AP', 'date': '2022-06-30'}, {'link': 'https://www.huffpost.com/entry/afghanistan-taliban-year-anniversary-poverty-womens-no-rights_n_62fb0efbe4b077bb77a53c99', 'headline': 'Afghanistan Marks One-Year Anniversary Since Taliban Takeover', 'category': 'WORLD NEWS', 'short_description': \"Poverty is spiking and women's rights have been decimated.\", 'authors': 'Rahim Faiez and Ebrahim Noroozi, AP', 'date': '2022-08-16'}, {'link': 'https://www.huffpost.com/entry/trans-woman-parent-japanese-court_n_630066e2e4b00c150d61b12d', 'headline': \"Trans Woman Can't Be Considered Parent Of Her Own Child, Rules Tokyo Court\", 'category': 'WORLD NEWS', 'short_description': 'The court said the woman is the legal parent of a daughter born before her transition but not one who was born afterward.', 'authors': 'Mary Papenfuss', 'date': '2022-08-20'}, {'link': 'https://www.huffpost.com/entry/russia-ukraine-war-nuclear-plant-reactor-stopped_n_631dc78de4b082746be0b33c', 'headline': \"Last Reactor At Ukraine's Zaporizhzhia Nuclear Plant Stopped\", 'category': 'WORLD NEWS', 'short_description': 'The plant, one of the 10 biggest atomic power stations in the world, has been occupied by Russian forces since early in the war, which marked its 200th day on Sunday.', 'authors': 'Karl Ritter, AP', 'date': '2022-09-11'}, {'link': 'https://www.huffpost.com/entry/bc-eu-britain-scotland-period-products_n_62fbd14de4b077bb77a6591d', 'headline': 'New Law Makes Period Products Free For All In Scotland', 'category': 'WORLD NEWS', 'short_description': 'The Period Products Act says that schools, universities and government buildings must make tampons and pads available for free in bathrooms.', 'authors': '', 'date': '2022-08-16'}, {'link': 'https://www.huffpost.com/entry/us-russia-to-buy-rockets-artillery-shells-from-north-korea_n_6316ba7fe4b0ed021deaa7c1', 'headline': 'U.S.: Russia To Buy Rockets, Artillery Shells From North Korea', 'category': 'WORLD NEWS', 'short_description': 'The finding comes after the Biden administration confirmed that the Russian military in August took delivery of Iranian-manufactured drones for use in Ukraine.', 'authors': 'Aamer Madhani, AP', 'date': '2022-09-06'}, {'link': 'https://www.huffpost.com/entry/josef-s-nazi-concentration-guard-sentenced_n_62baf56fe4b080fb670a5c6e', 'headline': 'Former Nazi Guard, 101, Jailed In Germany For Aiding Murder', 'category': 'WORLD NEWS', 'short_description': 'The man, only publicly identified as Josef S., was convicted of more than 3,500 counts of accessory to murder and sentenced to five years in prison Tuesday.', 'authors': '', 'date': '2022-06-28'}, {'link': 'https://www.huffpost.com/entry/newspaper-front-pages-mark-the-queens-death_n_631b09e1e4b0eac9f4d64686', 'headline': \"'Our Hearts Are Broken': Historic Front Pages Mark The Queen's Death\", 'category': 'WORLD NEWS', 'short_description': \"Both British and international newspapers honor the passing of the U.K'.s longest-reigning monarch.\", 'authors': 'Kate Nicholson', 'date': '2022-09-09'}, {'link': 'https://www.huffpost.com/entry/pakistan-flooding-passes-1000-climate-catastrophe_n_630b7ef0e4b063d5e61c54de', 'headline': \"Pakistan Flooding Deaths Pass 1,000 In 'Climate Catastrophe'\", 'category': 'WORLD NEWS', 'short_description': 'Pakistani authorities reported the casualties since the monsoon season began earlier than normal this year, destroying nearly 300,000 homes.', 'authors': 'Zarar Khan, AP', 'date': '2022-08-28'}, {'link': 'https://www.huffpost.com/entry/hurricane-fiona_n_63281718e4b0ed021dfe4ff0', 'headline': 'Hurricane Fiona Bears Down On Dominican Republic After Pounding Puerto Rico', 'category': 'WORLD NEWS', 'short_description': 'The storm knocked out the power grid and unleashed floods and landslides in Puerto Rico, where the governor said the damage was “catastrophic.”', 'authors': 'Danica Coto, AP', 'date': '2022-09-19'}, {'link': 'https://www.huffpost.com/entry/man-arrested-exposure-assault-queens-mourners-london_n_63254f41e4b0ed021dfd40a6', 'headline': 'Man Charged With Exposing Himself To Mourners Waiting To View Queen Elizabeth', 'category': 'WORLD NEWS', 'short_description': 'The 19-year-old reportedly fled into the Thames in a failed bid to escape police.', 'authors': 'Mary Papenfuss', 'date': '2022-09-17'}, {'link': 'https://www.huffpost.com/entry/bc-soc-wcup-captains-armbands_n_632b1c98e4b0913a3dd7554a', 'headline': 'World Cup Captains Want To Wear Rainbow Armbands In Qatar', 'category': 'WORLD NEWS', 'short_description': 'FIFA has come under pressure from several European soccer federations who want to support a human rights campaign against discrimination at the World Cup.', 'authors': 'GRAHAM DUNBAR, AP', 'date': '2022-09-21'}, {'link': 'https://www.huffpost.com/entry/bill-richardson-russia_n_6321a027e4b0eac9f4dcaef1', 'headline': 'Bill Richardson Visits Moscow As Brittney Griner, Paul Whelan Remain Jailed', 'category': 'WORLD NEWS', 'short_description': 'Richardson, the former U.S. ambassador to the United Nations and a frequent emissary in hostage negotiations, held meetings with Russian leaders.', 'authors': 'Eric Tucker, AP', 'date': '2022-09-14'}, {'link': 'https://www.huffpost.com/entry/antonio-guterres-pakistan-floods_n_631b47c7e4b027aa405b2142', 'headline': \"UN Chief Asks World For 'Massive' Help In Flood-Hit Pakistan\", 'category': 'WORLD NEWS', 'short_description': 'Speaking from Islamabad, Antonio Guterres said countries bearing more responsibility for climate change \"should have faced this challenge.\"', 'authors': 'Munir Ahmed, AP', 'date': '2022-09-09'}, {'link': 'https://www.huffpost.com/entry/iran-denies-involvement-but-justifies-salman-rushdie-attack_n_62fa275ee4b095e78881df24', 'headline': 'Iran Denies Involvement But Justifies Salman Rushdie Attack', 'category': 'WORLD NEWS', 'short_description': 'While Iran hasn’t focused on the writer in recent years, a decades-old fatwa demanding his killing still stands.', 'authors': 'Jon Gambrell, AP', 'date': '2022-08-15'}, {'link': 'https://www.huffpost.com/entry/valery-polyakov-dies_n_6329d497e4b0913a3dd5336c', 'headline': 'Russian Cosmonaut Valery Polyakov Who Broke Record With 437-Day Stay In Space Dies At 80', 'category': 'WORLD NEWS', 'short_description': \"Polyakov's record-breaking trip to outer space saw him orbit Earth 7,075 times and travel nearly 187 million miles.\", 'authors': 'Marco Margaritoff', 'date': '2022-09-20'}, {'link': 'https://www.huffpost.com/entry/prince-andrew-satirical-musical_n_63037be8e4b035629bfcbe26', 'headline': 'UK Broadcaster To Air Satirical Musical On Prince Andrew', 'category': 'WORLD NEWS', 'short_description': 'The 60-minute program described as a “satirical send-up of the life and times” of the duke set to a musical score.', 'authors': '', 'date': '2022-08-22'}, {'link': 'https://www.huffpost.com/entry/biden-un-russian-war-an-affront-to-bodys-charter_n_632ad9e3e4b0bfdf5e1bf5f7', 'headline': \"Biden At UN To Call Russian War An Affront To Body's Charter\", 'category': 'WORLD NEWS', 'short_description': \"White House officials say the crux of the president's visit to the U.N. this year will be a full-throated condemnation of Russia and its brutal war.\", 'authors': 'Aamer Madhani, AP', 'date': '2022-09-21'}, {'link': 'https://www.huffpost.com/entry/russian-controlled-ukrainian-regions-referendum_n_6329d53ae4b07198f012f023', 'headline': '4 Russian-Controlled Ukrainian Regions Schedule Votes This Week To Join Russia', 'category': 'WORLD NEWS', 'short_description': 'The concerted and quickening Kremlin-backed efforts to swallow up four regions could set the stage for Moscow to escalate the war.', 'authors': 'Jon Gambrell, AP', 'date': '2022-09-20'}, {'link': 'https://www.huffpost.com/entry/bc-eu-russia-ukraine-war_n_631caa67e4b0ed021df310a8', 'headline': \"Russia Says It's Pulling Back Forces From Ukraine's Kharkiv Region\", 'category': 'WORLD NEWS', 'short_description': 'Russia’s Defense Ministry announced that troops will be pulled back in two area where a Ukrainian counter offensive has made significant advances.', 'authors': 'KARL RITTER and JOANNA KOZLOWSKA, AP', 'date': '2022-09-10'}, {'link': 'https://www.huffpost.com/entry/hurricane-fiona-barrels-toward-turks-and-caicos-islands_n_63298597e4b0ed991abcacf9', 'headline': 'Fiona Barrels Toward Turks And Caicos Islands As Category 3 Hurricane', 'category': 'WORLD NEWS', 'short_description': 'The Turks and Caicos Islands government imposed a curfew as the intensifying storm kept dropping copious rain over the Dominican Republic and Puerto Rico.', 'authors': 'Dánica Coto, AP', 'date': '2022-09-20'}, {'link': 'https://www.huffpost.com/entry/shelling-goes-on-near-ukraine-nuclear-plant-despite-risks_n_6318769ce4b027aa405646dd', 'headline': 'Shelling Goes On Near Ukraine Nuclear Plant, Despite Risks', 'category': 'WORLD NEWS', 'short_description': 'The head of the International Atomic Energy Agency warned the U.N. Security Council  that “something very, very catastrophic could take place” at Zaporizhzhia.', 'authors': 'Yuras Karmanau, AP', 'date': '2022-09-07'}, {'link': 'https://www.huffpost.com/entry/lawyers-appeal-brittney-griners-russian-prison-sentence_n_62fa1bb7e4b045e6f6aef6fb', 'headline': \"Lawyers Appeal Brittney Griner's Russian Prison Sentence\", 'category': 'WORLD NEWS', 'short_description': \"Lawyers for the American basketball star said after Griner's conviction that the sentence was excessive.\", 'authors': 'Jim Heintz, AP', 'date': '2022-08-15'}, {'link': 'https://www.huffpost.com/entry/iceland-volcano-erupts-airport_n_62eaa5d1e4b0da5ec0f0c8ba', 'headline': 'Volcano Near Iceland’s Main Airport Erupts Again', 'category': 'WORLD NEWS', 'short_description': 'The Icelandic Meteorological Office urged people not to go near the Fagradalsfjall volcano.', 'authors': '', 'date': '2022-08-03'}, {'link': 'https://www.huffpost.com/entry/police-file-terrorism-charges-against-pakistans-ex-premier-imran-khan_n_63034c88e4b052615d730757', 'headline': \"Police File Terrorism Charges Against Pakistan's Ex-Premier Imran Khan\", 'category': 'WORLD NEWS', 'short_description': 'The charges accuse Khan of threatening police officers and a judge under the country’s sedition act.', 'authors': 'Munir Ahmed, AP', 'date': '2022-08-22'}, {'link': 'https://www.huffpost.com/entry/puerto-rico-water-hurricane-fiona_n_632bdfd8e4b0d12b54014e13', 'headline': 'Puerto Ricans Desperate For Water After Hurricane Fiona’s Rampage', 'category': 'WORLD NEWS', 'short_description': 'More than half a million people remained without water service three days after the storm lashed the U.S. territory.', 'authors': 'DÁNICA COTO, AP', 'date': '2022-09-22'}, {'link': 'https://www.huffpost.com/entry/stranded-whale-out-of-seine-river-to-be-moved-to-saltwater_n_62f37113e4b0acf9d0033e8e', 'headline': 'Stranded Whale Euthanized After Removal From French River', 'category': 'WORLD NEWS', 'short_description': 'A veterinarian said that during the rescue operation, the dangerously thin white mammal began to have breathing difficulties.', 'authors': '', 'date': '2022-08-10'}, {'link': 'https://www.huffpost.com/entry/tierra-amarilla-sinkhole_n_62ea6cd1e4b09d09a2bfb524', 'headline': 'Giant Sinkhole Swallows Chilean Land Owned By Canadian Mining Company', 'category': 'WORLD NEWS', 'short_description': 'The National Service of Geology and Mining first became aware of the 650-foot-deep sinkhole on Saturday.', 'authors': 'Marco Margaritoff', 'date': '2022-08-03'}, {'link': 'https://www.huffpost.com/entry/russia-ukraine-war-deaths_n_6303a700e4b0e323a2578a86', 'headline': 'Ukraine: 9,000 Of Its Troops Killed Since Russia Began War', 'category': 'WORLD NEWS', 'short_description': 'The Russian invasion of Ukraine began on Feb. 24.', 'authors': 'HANNA ARHIROVA, AP', 'date': '2022-08-22'}, {'link': 'https://www.huffpost.com/entry/fiona-threatens-to-become-category-4-storm-headed-to-bermuda_n_632ad1cae4b07198f0143244', 'headline': 'Fiona Threatens To Become Category 4 Storm Headed To Bermuda', 'category': 'WORLD NEWS', 'short_description': 'Hurricane Fiona lashed the Turks and Caicos Islands and was forecast to squeeze past Bermuda later this week.', 'authors': 'Dánica Coto, AP', 'date': '2022-09-21'}, {'link': 'https://www.huffpost.com/entry/prince-charles-charity-donation-from-bin-ladens_n_62e6836ee4b0c60a5669187c', 'headline': \"Report: Prince Charles' Charity Got Donation From Bin Ladens\", 'category': 'WORLD NEWS', 'short_description': 'The Prince of Wales’s Charitable Fund accepted a 1 million pound ($1.2 million) donation from relatives of Osama bin Laden, a newspaper reported.', 'authors': '', 'date': '2022-07-31'}]\n"
     ]
    }
   ],
   "source": [
    "query=\"Is there any news about natural calamities in the following?\"\n",
    "answer=rag(query)\n",
    "print(answer)"
   ]
  },
  {
   "cell_type": "code",
   "execution_count": null,
   "id": "7e242efb-978e-4877-8654-880899f423be",
   "metadata": {},
   "outputs": [],
   "source": []
  }
 ],
 "metadata": {
  "kernelspec": {
   "display_name": "Python 3 (ipykernel)",
   "language": "python",
   "name": "python3"
  },
  "language_info": {
   "codemirror_mode": {
    "name": "ipython",
    "version": 3
   },
   "file_extension": ".py",
   "mimetype": "text/x-python",
   "name": "python",
   "nbconvert_exporter": "python",
   "pygments_lexer": "ipython3",
   "version": "3.12.1"
  }
 },
 "nbformat": 4,
 "nbformat_minor": 5
}
